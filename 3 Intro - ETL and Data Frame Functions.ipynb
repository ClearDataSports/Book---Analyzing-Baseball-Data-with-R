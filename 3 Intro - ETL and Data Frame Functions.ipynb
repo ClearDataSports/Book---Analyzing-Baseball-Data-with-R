{
 "cells": [
  {
   "cell_type": "code",
   "execution_count": 14,
   "metadata": {},
   "outputs": [],
   "source": [
    "# Read in the Hall of Fame Batting data file.\n",
    "hof <- read.csv(\"data/hofbatting.csv\")\n"
   ]
  },
  {
   "cell_type": "code",
   "execution_count": 15,
   "metadata": {},
   "outputs": [],
   "source": [
    "# Figure out which year it was when the player was 1/2 way through their career.\n",
    "hof$MidCareer <- with(hof, (From + To) / 2)\n",
    "\n",
    "# Now generate a Factor Variable of the following meaningful years.\n",
    "hof$era <- cut(hof$MidCareer, breaks=c(1800,1900,1919,1941,1960,1976,1993,2999), labels=c(\"19th Century\",\"Lively Ball\",\"Dead Ball\",\"Integration\",\"Expansion\",\"Free Agency\",\"Long Ball\"))\n",
    "\n",
    "# Now generate a Data Frame of a sub-set of HOF data\n",
    "t.500 = subset(hof, HR>=500)\n"
   ]
  },
  {
   "cell_type": "code",
   "execution_count": 16,
   "metadata": {},
   "outputs": [
    {
     "data": {
      "text/html": [
       "'factor'"
      ],
      "text/latex": [
       "'factor'"
      ],
      "text/markdown": [
       "'factor'"
      ],
      "text/plain": [
       "[1] \"factor\""
      ]
     },
     "metadata": {},
     "output_type": "display_data"
    },
    {
     "data": {
      "text/html": [
       "'data.frame'"
      ],
      "text/latex": [
       "'data.frame'"
      ],
      "text/markdown": [
       "'data.frame'"
      ],
      "text/plain": [
       "[1] \"data.frame\""
      ]
     },
     "metadata": {},
     "output_type": "display_data"
    }
   ],
   "source": [
    "# Class function.  Tells you what type of object each variable is\n",
    "class(hof$era)\n",
    "class(t.500)\n"
   ]
  },
  {
   "cell_type": "code",
   "execution_count": 17,
   "metadata": {},
   "outputs": [
    {
     "data": {
      "text/plain": [
       "NULL"
      ]
     },
     "metadata": {},
     "output_type": "display_data"
    },
    {
     "data": {
      "text/html": [
       "<ol class=list-inline>\n",
       "\t<li>'Rk'</li>\n",
       "\t<li>'X'</li>\n",
       "\t<li>'Inducted'</li>\n",
       "\t<li>'Yrs'</li>\n",
       "\t<li>'From'</li>\n",
       "\t<li>'To'</li>\n",
       "\t<li>'ASG'</li>\n",
       "\t<li>'WAR.pos'</li>\n",
       "\t<li>'G'</li>\n",
       "\t<li>'PA'</li>\n",
       "\t<li>'AB'</li>\n",
       "\t<li>'R'</li>\n",
       "\t<li>'H'</li>\n",
       "\t<li>'X2B'</li>\n",
       "\t<li>'X3B'</li>\n",
       "\t<li>'HR'</li>\n",
       "\t<li>'RBI'</li>\n",
       "\t<li>'SB'</li>\n",
       "\t<li>'CS'</li>\n",
       "\t<li>'BB'</li>\n",
       "\t<li>'SO'</li>\n",
       "\t<li>'BA'</li>\n",
       "\t<li>'OBP'</li>\n",
       "\t<li>'SLG'</li>\n",
       "\t<li>'OPS'</li>\n",
       "\t<li>'MidCareer'</li>\n",
       "\t<li>'era'</li>\n",
       "</ol>\n"
      ],
      "text/latex": [
       "\\begin{enumerate*}\n",
       "\\item 'Rk'\n",
       "\\item 'X'\n",
       "\\item 'Inducted'\n",
       "\\item 'Yrs'\n",
       "\\item 'From'\n",
       "\\item 'To'\n",
       "\\item 'ASG'\n",
       "\\item 'WAR.pos'\n",
       "\\item 'G'\n",
       "\\item 'PA'\n",
       "\\item 'AB'\n",
       "\\item 'R'\n",
       "\\item 'H'\n",
       "\\item 'X2B'\n",
       "\\item 'X3B'\n",
       "\\item 'HR'\n",
       "\\item 'RBI'\n",
       "\\item 'SB'\n",
       "\\item 'CS'\n",
       "\\item 'BB'\n",
       "\\item 'SO'\n",
       "\\item 'BA'\n",
       "\\item 'OBP'\n",
       "\\item 'SLG'\n",
       "\\item 'OPS'\n",
       "\\item 'MidCareer'\n",
       "\\item 'era'\n",
       "\\end{enumerate*}\n"
      ],
      "text/markdown": [
       "1. 'Rk'\n",
       "2. 'X'\n",
       "3. 'Inducted'\n",
       "4. 'Yrs'\n",
       "5. 'From'\n",
       "6. 'To'\n",
       "7. 'ASG'\n",
       "8. 'WAR.pos'\n",
       "9. 'G'\n",
       "10. 'PA'\n",
       "11. 'AB'\n",
       "12. 'R'\n",
       "13. 'H'\n",
       "14. 'X2B'\n",
       "15. 'X3B'\n",
       "16. 'HR'\n",
       "17. 'RBI'\n",
       "18. 'SB'\n",
       "19. 'CS'\n",
       "20. 'BB'\n",
       "21. 'SO'\n",
       "22. 'BA'\n",
       "23. 'OBP'\n",
       "24. 'SLG'\n",
       "25. 'OPS'\n",
       "26. 'MidCareer'\n",
       "27. 'era'\n",
       "\n",
       "\n"
      ],
      "text/plain": [
       " [1] \"Rk\"        \"X\"         \"Inducted\"  \"Yrs\"       \"From\"      \"To\"       \n",
       " [7] \"ASG\"       \"WAR.pos\"   \"G\"         \"PA\"        \"AB\"        \"R\"        \n",
       "[13] \"H\"         \"X2B\"       \"X3B\"       \"HR\"        \"RBI\"       \"SB\"       \n",
       "[19] \"CS\"        \"BB\"        \"SO\"        \"BA\"        \"OBP\"       \"SLG\"      \n",
       "[25] \"OPS\"       \"MidCareer\" \"era\"      "
      ]
     },
     "metadata": {},
     "output_type": "display_data"
    }
   ],
   "source": [
    "# Names function.  Tells you all feature names in each variable.  \n",
    "#   This is a function for Data Frames, null is expected for the Factor variable.\n",
    "names(hof$era)\n",
    "names(t.500)\n"
   ]
  },
  {
   "cell_type": "code",
   "execution_count": 21,
   "metadata": {},
   "outputs": [
    {
     "name": "stdout",
     "output_type": "stream",
     "text": [
      " Factor w/ 7 levels \"19th Century\",..: 5 7 1 5 3 4 3 2 3 5 ...\n",
      "[1] \"\"\n",
      "'data.frame':\t15 obs. of  27 variables:\n",
      " $ Rk       : int  1 13 76 108 121 135 140 142 145 154 ...\n",
      " $ X        : Factor w/ 147 levels \"Al Kaline HOF\",..: 53 38 70 113 55 96 34 143 144 35 ...\n",
      " $ Inducted : int  1982 1977 1951 1993 1984 1974 1978 1979 1986 2003 ...\n",
      " $ Yrs      : int  23 19 20 21 22 18 17 22 22 21 ...\n",
      " $ From     : int  1954 1953 1925 1967 1954 1951 1952 1951 1959 1977 ...\n",
      " $ To       : int  1976 1971 1945 1987 1975 1968 1968 1973 1980 1997 ...\n",
      " $ ASG      : int  25 14 9 14 13 20 12 24 6 8 ...\n",
      " $ WAR.pos  : num  137.3 62.5 92.5 68.4 55.8 ...\n",
      " $ G        : int  3298 2528 2317 2820 2435 2401 2391 2992 2588 3026 ...\n",
      " $ PA       : int  13941 10394 9676 11418 9833 9907 10100 12496 9692 12817 ...\n",
      " $ AB       : int  12364 9421 8134 9864 8147 8102 8537 10881 8197 11336 ...\n",
      " $ R        : int  2174 1305 1751 1551 1283 1676 1509 2062 1229 1627 ...\n",
      " $ H        : int  3771 2583 2646 2584 2086 2415 2315 3283 2211 3255 ...\n",
      " $ X2B      : int  624 407 458 463 290 344 354 523 353 560 ...\n",
      " $ X3B      : int  98 90 125 49 24 72 72 140 46 35 ...\n",
      " $ HR       : int  755 512 534 563 573 536 512 660 521 504 ...\n",
      " $ RBI      : int  2297 1636 1922 1702 1584 1509 1453 1903 1555 1917 ...\n",
      " $ SB       : int  240 50 87 228 19 153 68 338 26 110 ...\n",
      " $ CS       : int  73 53 73 115 18 38 39 103 22 43 ...\n",
      " $ BB       : int  1402 763 1452 1375 1559 1733 1444 1464 1345 1333 ...\n",
      " $ SO       : int  1383 1236 1311 2597 1699 1710 1487 1526 1550 1516 ...\n",
      " $ BA       : num  0.305 0.274 0.325 0.262 0.256 0.298 0.271 0.302 0.27 0.287 ...\n",
      " $ OBP      : num  0.374 0.33 0.428 0.356 0.376 0.421 0.376 0.384 0.374 0.359 ...\n",
      " $ SLG      : num  0.555 0.5 0.609 0.49 0.509 0.557 0.509 0.557 0.515 0.476 ...\n",
      " $ OPS      : num  0.928 0.83 1.038 0.846 0.884 ...\n",
      " $ MidCareer: num  1965 1962 1935 1977 1964 ...\n",
      " $ era      : Factor w/ 7 levels \"19th Century\",..: 5 5 3 6 5 4 4 5 5 6 ...\n"
     ]
    }
   ],
   "source": [
    "# Str function.  Lists the Structure of the data.\n",
    "str(hof$era)\n",
    "print(\"\")\n",
    "str(t.500)"
   ]
  },
  {
   "cell_type": "code",
   "execution_count": 24,
   "metadata": {},
   "outputs": [
    {
     "data": {
      "text/html": [
       "<ol class=list-inline>\n",
       "\t<li>'19th Century'</li>\n",
       "\t<li>'Lively Ball'</li>\n",
       "\t<li>'Dead Ball'</li>\n",
       "\t<li>'Integration'</li>\n",
       "\t<li>'Expansion'</li>\n",
       "\t<li>'Free Agency'</li>\n",
       "\t<li>'Long Ball'</li>\n",
       "</ol>\n"
      ],
      "text/latex": [
       "\\begin{enumerate*}\n",
       "\\item '19th Century'\n",
       "\\item 'Lively Ball'\n",
       "\\item 'Dead Ball'\n",
       "\\item 'Integration'\n",
       "\\item 'Expansion'\n",
       "\\item 'Free Agency'\n",
       "\\item 'Long Ball'\n",
       "\\end{enumerate*}\n"
      ],
      "text/markdown": [
       "1. '19th Century'\n",
       "2. 'Lively Ball'\n",
       "3. 'Dead Ball'\n",
       "4. 'Integration'\n",
       "5. 'Expansion'\n",
       "6. 'Free Agency'\n",
       "7. 'Long Ball'\n",
       "\n",
       "\n"
      ],
      "text/plain": [
       "[1] \"19th Century\" \"Lively Ball\"  \"Dead Ball\"    \"Integration\"  \"Expansion\"   \n",
       "[6] \"Free Agency\"  \"Long Ball\"   "
      ]
     },
     "metadata": {},
     "output_type": "display_data"
    },
    {
     "data": {
      "text/plain": [
       "NULL"
      ]
     },
     "metadata": {},
     "output_type": "display_data"
    }
   ],
   "source": [
    "# Levels function.  Factors only, lists the levels of a factor.\n",
    "levels(hof$era)\n",
    "levels(t.500)"
   ]
  },
  {
   "cell_type": "code",
   "execution_count": 28,
   "metadata": {},
   "outputs": [
    {
     "data": {
      "text/plain": [
       "NULL"
      ]
     },
     "metadata": {},
     "output_type": "display_data"
    },
    {
     "data": {
      "text/html": [
       "<ol class=list-inline>\n",
       "\t<li>15</li>\n",
       "\t<li>27</li>\n",
       "</ol>\n"
      ],
      "text/latex": [
       "\\begin{enumerate*}\n",
       "\\item 15\n",
       "\\item 27\n",
       "\\end{enumerate*}\n"
      ],
      "text/markdown": [
       "1. 15\n",
       "2. 27\n",
       "\n",
       "\n"
      ],
      "text/plain": [
       "[1] 15 27"
      ]
     },
     "metadata": {},
     "output_type": "display_data"
    }
   ],
   "source": [
    "# Dim function.  Lists the dimensions of a Data Frame\n",
    "dim(hof$era)\n",
    "dim(t.500)  # 15 Observations containing 27 Features...  aka 15 rows by 27 columns\n"
   ]
  },
  {
   "cell_type": "code",
   "execution_count": 30,
   "metadata": {},
   "outputs": [
    {
     "data": {
      "text/html": [
       "<table>\n",
       "<thead><tr><th scope=col>Rk</th><th scope=col>X</th><th scope=col>Inducted</th><th scope=col>Yrs</th><th scope=col>From</th><th scope=col>To</th><th scope=col>ASG</th><th scope=col>WAR.pos</th><th scope=col>G</th><th scope=col>PA</th><th scope=col>...</th><th scope=col>SB</th><th scope=col>CS</th><th scope=col>BB</th><th scope=col>SO</th><th scope=col>BA</th><th scope=col>OBP</th><th scope=col>SLG</th><th scope=col>OPS</th><th scope=col>MidCareer</th><th scope=col>era</th></tr></thead>\n",
       "<tbody>\n",
       "\t<tr><td>1             </td><td>Hank Aaron HOF</td><td>1982          </td><td>23            </td><td>1954          </td><td>1976          </td><td>25            </td><td>137.3         </td><td>3298          </td><td>13941         </td><td>...           </td><td>240           </td><td>73            </td><td>1402          </td><td>1383          </td><td>0.305         </td><td>0.374         </td><td>0.555         </td><td>0.928         </td><td>1965          </td><td>Expansion     </td></tr>\n",
       "</tbody>\n",
       "</table>\n"
      ],
      "text/latex": [
       "\\begin{tabular}{r|lllllllllllllllllllllllllll}\n",
       " Rk & X & Inducted & Yrs & From & To & ASG & WAR.pos & G & PA & ... & SB & CS & BB & SO & BA & OBP & SLG & OPS & MidCareer & era\\\\\n",
       "\\hline\n",
       "\t 1              & Hank Aaron HOF & 1982           & 23             & 1954           & 1976           & 25             & 137.3          & 3298           & 13941          & ...            & 240            & 73             & 1402           & 1383           & 0.305          & 0.374          & 0.555          & 0.928          & 1965           & Expansion     \\\\\n",
       "\\end{tabular}\n"
      ],
      "text/plain": [
       "  Rk X              Inducted Yrs From To   ASG WAR.pos G    PA    ... SB  CS\n",
       "1 1  Hank Aaron HOF 1982     23  1954 1976 25  137.3   3298 13941 ... 240 73\n",
       "  BB   SO   BA    OBP   SLG   OPS   MidCareer era      \n",
       "1 1402 1383 0.305 0.374 0.555 0.928 1965      Expansion"
      ]
     },
     "metadata": {},
     "output_type": "display_data"
    },
    {
     "data": {
      "text/html": [
       "<table>\n",
       "<thead><tr><th></th><th scope=col>Rk</th><th scope=col>X</th><th scope=col>Inducted</th><th scope=col>Yrs</th><th scope=col>From</th><th scope=col>To</th><th scope=col>ASG</th><th scope=col>WAR.pos</th><th scope=col>G</th><th scope=col>PA</th><th scope=col>...</th><th scope=col>SB</th><th scope=col>CS</th><th scope=col>BB</th><th scope=col>SO</th><th scope=col>BA</th><th scope=col>OBP</th><th scope=col>SLG</th><th scope=col>OPS</th><th scope=col>MidCareer</th><th scope=col>era</th></tr></thead>\n",
       "<tbody>\n",
       "\t<tr><th scope=row>1</th><td>  1                 </td><td>Hank Aaron HOF      </td><td>1982                </td><td>23                  </td><td>1954                </td><td>1976                </td><td>25                  </td><td>137.3               </td><td>3298                </td><td>13941               </td><td>...                 </td><td>240                 </td><td> 73                 </td><td>1402                </td><td>1383                </td><td>0.305               </td><td>0.374               </td><td>0.555               </td><td>0.928               </td><td>1965.0              </td><td>Expansion           </td></tr>\n",
       "\t<tr><th scope=row>10</th><td> 13                 </td><td>Ernie Banks HOF     </td><td>1977                </td><td>19                  </td><td>1953                </td><td>1971                </td><td>14                  </td><td> 62.5               </td><td>2528                </td><td>10394               </td><td>...                 </td><td> 50                 </td><td> 53                 </td><td> 763                </td><td>1236                </td><td>0.274               </td><td>0.330               </td><td>0.500               </td><td>0.830               </td><td>1962.0              </td><td>Expansion           </td></tr>\n",
       "\t<tr><th scope=row>54</th><td> 76                 </td><td>Jimmie Foxx HOF     </td><td>1951                </td><td>20                  </td><td>1925                </td><td>1945                </td><td> 9                  </td><td> 92.5               </td><td>2317                </td><td> 9676               </td><td>...                 </td><td> 87                 </td><td> 73                 </td><td>1452                </td><td>1311                </td><td>0.325               </td><td>0.428               </td><td>0.609               </td><td>1.038               </td><td>1935.0              </td><td>Dead Ball           </td></tr>\n",
       "\t<tr><th scope=row>71</th><td>108                 </td><td>Reggie Jackson HOF  </td><td>1993                </td><td>21                  </td><td>1967                </td><td>1987                </td><td>14                  </td><td> 68.4               </td><td>2820                </td><td>11418               </td><td>...                 </td><td>228                 </td><td>115                 </td><td>1375                </td><td>2597                </td><td>0.262               </td><td>0.356               </td><td>0.490               </td><td>0.846               </td><td>1977.0              </td><td>Free Agency         </td></tr>\n",
       "\t<tr><th scope=row>80</th><td>121                 </td><td>Harmon Killebrew HOF</td><td>1984                </td><td>22                  </td><td>1954                </td><td>1975                </td><td>13                  </td><td> 55.8               </td><td>2435                </td><td> 9833               </td><td>...                 </td><td> 19                 </td><td> 18                 </td><td>1559                </td><td>1699                </td><td>0.256               </td><td>0.376               </td><td>0.509               </td><td>0.884               </td><td>1964.5              </td><td>Expansion           </td></tr>\n",
       "\t<tr><th scope=row>88</th><td>135                 </td><td>Mickey Mantle HOF   </td><td>1974                </td><td>18                  </td><td>1951                </td><td>1968                </td><td>20                  </td><td>105.5               </td><td>2401                </td><td> 9907               </td><td>...                 </td><td>153                 </td><td> 38                 </td><td>1733                </td><td>1710                </td><td>0.298               </td><td>0.421               </td><td>0.557               </td><td>0.977               </td><td>1959.5              </td><td>Integration         </td></tr>\n",
       "\t<tr><th scope=row>91</th><td>140                 </td><td>Eddie Mathews HOF   </td><td>1978                </td><td>17                  </td><td>1952                </td><td>1968                </td><td>12                  </td><td> 91.9               </td><td>2391                </td><td>10100               </td><td>...                 </td><td> 68                 </td><td> 39                 </td><td>1444                </td><td>1487                </td><td>0.271               </td><td>0.376               </td><td>0.509               </td><td>0.885               </td><td>1960.0              </td><td>Integration         </td></tr>\n",
       "</tbody>\n",
       "</table>\n"
      ],
      "text/latex": [
       "\\begin{tabular}{r|lllllllllllllllllllllllllll}\n",
       "  & Rk & X & Inducted & Yrs & From & To & ASG & WAR.pos & G & PA & ... & SB & CS & BB & SO & BA & OBP & SLG & OPS & MidCareer & era\\\\\n",
       "\\hline\n",
       "\t1 &   1                  & Hank Aaron HOF       & 1982                 & 23                   & 1954                 & 1976                 & 25                   & 137.3                & 3298                 & 13941                & ...                  & 240                  &  73                  & 1402                 & 1383                 & 0.305                & 0.374                & 0.555                & 0.928                & 1965.0               & Expansion           \\\\\n",
       "\t10 &  13                  & Ernie Banks HOF      & 1977                 & 19                   & 1953                 & 1971                 & 14                   &  62.5                & 2528                 & 10394                & ...                  &  50                  &  53                  &  763                 & 1236                 & 0.274                & 0.330                & 0.500                & 0.830                & 1962.0               & Expansion           \\\\\n",
       "\t54 &  76                  & Jimmie Foxx HOF      & 1951                 & 20                   & 1925                 & 1945                 &  9                   &  92.5                & 2317                 &  9676                & ...                  &  87                  &  73                  & 1452                 & 1311                 & 0.325                & 0.428                & 0.609                & 1.038                & 1935.0               & Dead Ball           \\\\\n",
       "\t71 & 108                  & Reggie Jackson HOF   & 1993                 & 21                   & 1967                 & 1987                 & 14                   &  68.4                & 2820                 & 11418                & ...                  & 228                  & 115                  & 1375                 & 2597                 & 0.262                & 0.356                & 0.490                & 0.846                & 1977.0               & Free Agency         \\\\\n",
       "\t80 & 121                  & Harmon Killebrew HOF & 1984                 & 22                   & 1954                 & 1975                 & 13                   &  55.8                & 2435                 &  9833                & ...                  &  19                  &  18                  & 1559                 & 1699                 & 0.256                & 0.376                & 0.509                & 0.884                & 1964.5               & Expansion           \\\\\n",
       "\t88 & 135                  & Mickey Mantle HOF    & 1974                 & 18                   & 1951                 & 1968                 & 20                   & 105.5                & 2401                 &  9907                & ...                  & 153                  &  38                  & 1733                 & 1710                 & 0.298                & 0.421                & 0.557                & 0.977                & 1959.5               & Integration         \\\\\n",
       "\t91 & 140                  & Eddie Mathews HOF    & 1978                 & 17                   & 1952                 & 1968                 & 12                   &  91.9                & 2391                 & 10100                & ...                  &  68                  &  39                  & 1444                 & 1487                 & 0.271                & 0.376                & 0.509                & 0.885                & 1960.0               & Integration         \\\\\n",
       "\\end{tabular}\n"
      ],
      "text/plain": [
       "   Rk  X                    Inducted Yrs From To   ASG WAR.pos G    PA    ...\n",
       "1    1 Hank Aaron HOF       1982     23  1954 1976 25  137.3   3298 13941 ...\n",
       "10  13 Ernie Banks HOF      1977     19  1953 1971 14   62.5   2528 10394 ...\n",
       "54  76 Jimmie Foxx HOF      1951     20  1925 1945  9   92.5   2317  9676 ...\n",
       "71 108 Reggie Jackson HOF   1993     21  1967 1987 14   68.4   2820 11418 ...\n",
       "80 121 Harmon Killebrew HOF 1984     22  1954 1975 13   55.8   2435  9833 ...\n",
       "88 135 Mickey Mantle HOF    1974     18  1951 1968 20  105.5   2401  9907 ...\n",
       "91 140 Eddie Mathews HOF    1978     17  1952 1968 12   91.9   2391 10100 ...\n",
       "   SB  CS  BB   SO   BA    OBP   SLG   OPS   MidCareer era        \n",
       "1  240  73 1402 1383 0.305 0.374 0.555 0.928 1965.0    Expansion  \n",
       "10  50  53  763 1236 0.274 0.330 0.500 0.830 1962.0    Expansion  \n",
       "54  87  73 1452 1311 0.325 0.428 0.609 1.038 1935.0    Dead Ball  \n",
       "71 228 115 1375 2597 0.262 0.356 0.490 0.846 1977.0    Free Agency\n",
       "80  19  18 1559 1699 0.256 0.376 0.509 0.884 1964.5    Expansion  \n",
       "88 153  38 1733 1710 0.298 0.421 0.557 0.977 1959.5    Integration\n",
       "91  68  39 1444 1487 0.271 0.376 0.509 0.885 1960.0    Integration"
      ]
     },
     "metadata": {},
     "output_type": "display_data"
    }
   ],
   "source": [
    "# Print out first X rows of data\n",
    "head(t.500, n=1)\n",
    "head(t.500, n=7)\n"
   ]
  },
  {
   "cell_type": "code",
   "execution_count": 32,
   "metadata": {},
   "outputs": [
    {
     "data": {
      "text/html": [
       "<table>\n",
       "<thead><tr><th></th><th scope=col>Rk</th><th scope=col>X</th><th scope=col>Inducted</th><th scope=col>Yrs</th><th scope=col>From</th><th scope=col>To</th><th scope=col>ASG</th><th scope=col>WAR.pos</th><th scope=col>G</th><th scope=col>PA</th><th scope=col>...</th><th scope=col>SB</th><th scope=col>CS</th><th scope=col>BB</th><th scope=col>SO</th><th scope=col>BA</th><th scope=col>OBP</th><th scope=col>SLG</th><th scope=col>OPS</th><th scope=col>MidCareer</th><th scope=col>era</th></tr></thead>\n",
       "<tbody>\n",
       "\t<tr><th scope=row>116</th><td>184             </td><td>Babe Ruth HOF   </td><td>1936            </td><td>22              </td><td>1914            </td><td>1935            </td><td> 2              </td><td>159.2           </td><td>2503            </td><td>10620           </td><td>...             </td><td>123             </td><td>117             </td><td>2062            </td><td>1330            </td><td>0.342           </td><td>0.474           </td><td>0.690           </td><td>1.164           </td><td>1924.5          </td><td>Dead Ball       </td></tr>\n",
       "\t<tr><th scope=row>120</th><td>189             </td><td>Mike Schmidt HOF</td><td>1995            </td><td>18              </td><td>1972            </td><td>1989            </td><td>12              </td><td>103.0           </td><td>2404            </td><td>10062           </td><td>...             </td><td>174             </td><td> 92             </td><td>1507            </td><td>1883            </td><td>0.267           </td><td>0.380           </td><td>0.527           </td><td>0.908           </td><td>1980.5          </td><td>Free Agency     </td></tr>\n",
       "\t<tr><th scope=row>142</th><td>224             </td><td>Ted Williams HOF</td><td>1966            </td><td>19              </td><td>1939            </td><td>1960            </td><td>19              </td><td>119.8           </td><td>2292            </td><td> 9788           </td><td>...             </td><td> 24             </td><td> 17             </td><td>2021            </td><td> 709            </td><td>0.344           </td><td>0.482           </td><td>0.634           </td><td>1.116           </td><td>1949.5          </td><td>Integration     </td></tr>\n",
       "</tbody>\n",
       "</table>\n"
      ],
      "text/latex": [
       "\\begin{tabular}{r|lllllllllllllllllllllllllll}\n",
       "  & Rk & X & Inducted & Yrs & From & To & ASG & WAR.pos & G & PA & ... & SB & CS & BB & SO & BA & OBP & SLG & OPS & MidCareer & era\\\\\n",
       "\\hline\n",
       "\t116 & 184              & Babe Ruth HOF    & 1936             & 22               & 1914             & 1935             &  2               & 159.2            & 2503             & 10620            & ...              & 123              & 117              & 2062             & 1330             & 0.342            & 0.474            & 0.690            & 1.164            & 1924.5           & Dead Ball       \\\\\n",
       "\t120 & 189              & Mike Schmidt HOF & 1995             & 18               & 1972             & 1989             & 12               & 103.0            & 2404             & 10062            & ...              & 174              &  92              & 1507             & 1883             & 0.267            & 0.380            & 0.527            & 0.908            & 1980.5           & Free Agency     \\\\\n",
       "\t142 & 224              & Ted Williams HOF & 1966             & 19               & 1939             & 1960             & 19               & 119.8            & 2292             &  9788            & ...              &  24              &  17              & 2021             &  709             & 0.344            & 0.482            & 0.634            & 1.116            & 1949.5           & Integration     \\\\\n",
       "\\end{tabular}\n"
      ],
      "text/plain": [
       "    Rk  X                Inducted Yrs From To   ASG WAR.pos G    PA    ... SB \n",
       "116 184 Babe Ruth HOF    1936     22  1914 1935  2  159.2   2503 10620 ... 123\n",
       "120 189 Mike Schmidt HOF 1995     18  1972 1989 12  103.0   2404 10062 ... 174\n",
       "142 224 Ted Williams HOF 1966     19  1939 1960 19  119.8   2292  9788 ...  24\n",
       "    CS  BB   SO   BA    OBP   SLG   OPS   MidCareer era        \n",
       "116 117 2062 1330 0.342 0.474 0.690 1.164 1924.5    Dead Ball  \n",
       "120  92 1507 1883 0.267 0.380 0.527 0.908 1980.5    Free Agency\n",
       "142  17 2021  709 0.344 0.482 0.634 1.116 1949.5    Integration"
      ]
     },
     "metadata": {},
     "output_type": "display_data"
    }
   ],
   "source": [
    "# Print out last x rows of data\n",
    "tail(t.500, n=3)"
   ]
  }
 ],
 "metadata": {
  "kernelspec": {
   "display_name": "R",
   "language": "R",
   "name": "ir"
  },
  "language_info": {
   "codemirror_mode": "r",
   "file_extension": ".r",
   "mimetype": "text/x-r-source",
   "name": "R",
   "pygments_lexer": "r",
   "version": "3.3.2"
  }
 },
 "nbformat": 4,
 "nbformat_minor": 2
}
