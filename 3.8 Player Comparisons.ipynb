{
 "cells": [
  {
   "cell_type": "code",
   "execution_count": 20,
   "metadata": {},
   "outputs": [],
   "source": [
    "# Install the Lahman package by un-commenting out the line below.\n",
    "#install.packages('Lahman', repos='http://cran.us.r-project.org')\n",
    "library(Lahman)"
   ]
  },
  {
   "cell_type": "markdown",
   "metadata": {},
   "source": [
    "Exciting stuff here, now we are going to create a new function so that we can get player info.\n",
    "\n",
    "Also, MLB calculates the age of a player for the season played based on how old they are on June 30th of that season."
   ]
  },
  {
   "cell_type": "code",
   "execution_count": 46,
   "metadata": {
    "collapsed": true
   },
   "outputs": [],
   "source": [
    "# Get Player Info function\n",
    "getPlayerInfo <- function(firstName, lastName){\n",
    "    # Get the Player Data from the Master data frame.\n",
    "    playerLine <- subset(Master, nameFirst==firstName & nameLast==lastName)\n",
    "    name.code <- as.character(playerLine$playerID)  # no reason to seprate the name like this, but whatever.\n",
    "    birthYear <- playerLine$birthYear\n",
    "    birthMonth <- playerLine$birthMonth\n",
    "    birthDay <- playerLine$birthDay\n",
    "    byear <- ifelse(birthMonth <= 6, birthYear, birthYear + 1)\n",
    "    list(name.code=name.code, birthYear=byear) \n",
    "}"
   ]
  },
  {
   "cell_type": "code",
   "execution_count": 27,
   "metadata": {},
   "outputs": [
    {
     "name": "stdout",
     "output_type": "stream",
     "text": [
      "List of 2\n",
      " $ name.code: chr \"ruthba01\"\n",
      " $ birthYear: int 1895\n"
     ]
    }
   ],
   "source": [
    "# Get the Player Info by calling our method from above\n",
    "ruth.info <- getPlayerInfo(\"Babe\",\"Ruth\")\n",
    "aaron.info <- getPlayerInfo(\"Hank\",\"Aaron\")\n",
    "bonds.info <- getPlayerInfo(\"Barry\",\"Bonds\")\n",
    "arod.info <- getPlayerInfo(\"Alex\",\"Rodriguez\")\n",
    "str(ruth.info)\n",
    "\n"
   ]
  },
  {
   "cell_type": "code",
   "execution_count": 45,
   "metadata": {},
   "outputs": [],
   "source": [
    "# Now get the Batting data for each player into a Data Frame and create the Age feature.\n",
    "ruth.data <- subset(Batting, playerID == ruth.info$name.code)\n",
    "ruth.data$Age <- ruth.data$yearID - ruth.info$birthYear\n",
    "\n",
    "aaron.data <- subset(Batting, playerID == aaron.info$name.code)\n",
    "aaron.data$Age <- aaron.data$yearID - aaron.info$birthYear\n",
    "\n",
    "bonds.data <- subset(Batting, playerID == bonds.info$name.code)\n",
    "bonds.data$Age <- bonds.data$yearID - bonds.info$birthYear\n",
    "\n",
    "arod.data <- subset(Batting, playerID == arod.info$name.code)\n",
    "arod.data$Age <- arod.data$yearID - arod.info$birthYear"
   ]
  },
  {
   "cell_type": "code",
   "execution_count": 44,
   "metadata": {},
   "outputs": [
    {
     "data": {
      "image/png": "[encoded data removed]",
      "text/plain": [
       "plot without title"
      ]
     },
     "metadata": {},
     "output_type": "display_data"
    }
   ],
   "source": [
    "# Plot out Babe Ruth's data and some general attributes of the graph.\n",
    "# type is the letter l, not the number one.  Stands for Line \n",
    "# lty is line type.  lwd is line weight\n",
    "with(ruth.data, plot(Age, cumsum(HR), type=\"l\", lty=3, lwd=2, xlab=\"Age\", ylab=\"Career HR\", xlim=c(18, 45), ylim=c(0, 800)))\n",
    "\n",
    "# Now add the rest of the players.\n",
    "with(aaron.data, lines(Age, cumsum(HR), lty=2, lwd=2))\n",
    "with(bonds.data, lines(Age, cumsum(HR), lty=1, lwd=2))\n",
    "with(arod.data, lines(Age, cumsum(HR), lty=4, lwd=2))\n",
    "\n",
    "# set up the legend so we know who is who\n",
    "legend(20, 700, legend=c(\"Bonds\",\"Aaron\",\"Ruth\", \"Arod\"), lty=1:4, lwd=2)\n"
   ]
  },
  {
   "cell_type": "code",
   "execution_count": null,
   "metadata": {
    "collapsed": true
   },
   "outputs": [],
   "source": []
  },
  {
   "cell_type": "code",
   "execution_count": null,
   "metadata": {
    "collapsed": true
   },
   "outputs": [],
   "source": []
  },
  {
   "cell_type": "markdown",
   "metadata": {},
   "source": [
    "Challenge:  Re-Write this using a loop."
   ]
  }
 ],
 "metadata": {
  "kernelspec": {
   "display_name": "R",
   "language": "R",
   "name": "ir"
  },
  "language_info": {
   "codemirror_mode": "r",
   "file_extension": ".r",
   "mimetype": "text/x-r-source",
   "name": "R",
   "pygments_lexer": "r",
   "version": "3.3.2"
  }
 },
 "nbformat": 4,
 "nbformat_minor": 2
}
