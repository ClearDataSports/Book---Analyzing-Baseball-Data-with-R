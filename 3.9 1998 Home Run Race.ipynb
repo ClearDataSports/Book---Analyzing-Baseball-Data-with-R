{
 "cells": [
  {
   "cell_type": "code",
   "execution_count": 19,
   "metadata": {},
   "outputs": [],
   "source": [
    "# Load the data, this takes a few seconds.\n",
    "data98 <- read.csv(\"data/all1998.csv\")\n",
    "fields <- read.csv(\"data/fields.csv\")\n",
    "retro.ids <- read.csv(\"data/retrosheetIDs.csv\")\n",
    "\n",
    "\n",
    "# Install the Lahman package by un-commenting out the line below.\n",
    "#install.packages('Lahman', repos='http://cran.us.r-project.org')\n",
    "# library(Lahman)\n",
    "\n"
   ]
  },
  {
   "cell_type": "code",
   "execution_count": 25,
   "metadata": {},
   "outputs": [
    {
     "data": {
      "text/html": [
       "<table>\n",
       "<thead><tr><th scope=col>ANA199804010</th><th scope=col>NYA</th><th scope=col>X1</th><th scope=col>X0</th><th scope=col>X0.1</th><th scope=col>X0.2</th><th scope=col>X0.3</th><th scope=col>X</th><th scope=col>X0.4</th><th scope=col>X0.5</th><th scope=col>...</th><th scope=col>X0.16</th><th scope=col>X3</th><th scope=col>X0.17</th><th scope=col>X0.18</th><th scope=col>X4.2</th><th scope=col>X0.19</th><th scope=col>X0.20</th><th scope=col>X0.21</th><th scope=col>X0.22</th><th scope=col>X1.3</th></tr></thead>\n",
       "<tbody>\n",
       "\t<tr><td>ANA199804010</td><td>NYA         </td><td>1           </td><td>0           </td><td>1           </td><td>0           </td><td>0           </td><td>            </td><td>0           </td><td>0           </td><td>...         </td><td>0           </td><td>2           </td><td>0           </td><td>0           </td><td>0           </td><td>0           </td><td>0           </td><td>0           </td><td>0           </td><td>2           </td></tr>\n",
       "</tbody>\n",
       "</table>\n"
      ],
      "text/latex": [
       "\\begin{tabular}{r|lllllllllllllllllllllllllllllllllllllllllllllllllllllllllllllllllllllllllllllllllllllllllllllllll}\n",
       " ANA199804010 & NYA & X1 & X0 & X0.1 & X0.2 & X0.3 & X & X0.4 & X0.5 & ... & X0.16 & X3 & X0.17 & X0.18 & X4.2 & X0.19 & X0.20 & X0.21 & X0.22 & X1.3\\\\\n",
       "\\hline\n",
       "\t ANA199804010 & NYA          & 1            & 0            & 1            & 0            & 0            &              & 0            & 0            & ...          & 0            & 2            & 0            & 0            & 0            & 0            & 0            & 0            & 0            & 2           \\\\\n",
       "\\end{tabular}\n"
      ],
      "text/plain": [
       "  ANA199804010 NYA X1 X0 X0.1 X0.2 X0.3 X X0.4 X0.5 ... X0.16 X3 X0.17 X0.18\n",
       "1 ANA199804010 NYA 1  0  1    0    0      0    0    ... 0     2  0     0    \n",
       "  X4.2 X0.19 X0.20 X0.21 X0.22 X1.3\n",
       "1 0    0     0     0     0     2   "
      ]
     },
     "metadata": {},
     "output_type": "display_data"
    },
    {
     "data": {
      "text/html": [
       "<table>\n",
       "<thead><tr><th scope=col>GAME_ID</th><th scope=col>AWAY_TEAM_ID</th><th scope=col>INN_CT</th><th scope=col>BAT_HOME_ID</th><th scope=col>OUTS_CT</th><th scope=col>BALLS_CT</th><th scope=col>STRIKES_CT</th><th scope=col>PITCH_SEQ_TX</th><th scope=col>AWAY_SCORE_CT</th><th scope=col>HOME_SCORE_CT</th><th scope=col>...</th><th scope=col>REMOVED_FOR_PH_BAT_FLD_CD</th><th scope=col>PO1_FLD_CD</th><th scope=col>PO2_FLD_CD</th><th scope=col>PO3_FLD_CD</th><th scope=col>ASS1_FLD_CD</th><th scope=col>ASS2_FLD_CD</th><th scope=col>ASS3_FLD_CD</th><th scope=col>ASS4_FLD_CD</th><th scope=col>ASS5_FLD_CD</th><th scope=col>EVENT_ID</th></tr></thead>\n",
       "<tbody>\n",
       "\t<tr><td>ANA199804010</td><td>NYA         </td><td>1           </td><td>0           </td><td>1           </td><td>0           </td><td>0           </td><td>            </td><td>0           </td><td>0           </td><td>...         </td><td>0           </td><td>2           </td><td>0           </td><td>0           </td><td>0           </td><td>0           </td><td>0           </td><td>0           </td><td>0           </td><td>2           </td></tr>\n",
       "</tbody>\n",
       "</table>\n"
      ],
      "text/latex": [
       "\\begin{tabular}{r|lllllllllllllllllllllllllllllllllllllllllllllllllllllllllllllllllllllllllllllllllllllllllllllllll}\n",
       " GAME\\_ID & AWAY\\_TEAM\\_ID & INN\\_CT & BAT\\_HOME\\_ID & OUTS\\_CT & BALLS\\_CT & STRIKES\\_CT & PITCH\\_SEQ\\_TX & AWAY\\_SCORE\\_CT & HOME\\_SCORE\\_CT & ... & REMOVED\\_FOR\\_PH\\_BAT\\_FLD\\_CD & PO1\\_FLD\\_CD & PO2\\_FLD\\_CD & PO3\\_FLD\\_CD & ASS1\\_FLD\\_CD & ASS2\\_FLD\\_CD & ASS3\\_FLD\\_CD & ASS4\\_FLD\\_CD & ASS5\\_FLD\\_CD & EVENT\\_ID\\\\\n",
       "\\hline\n",
       "\t ANA199804010 & NYA          & 1            & 0            & 1            & 0            & 0            &              & 0            & 0            & ...          & 0            & 2            & 0            & 0            & 0            & 0            & 0            & 0            & 0            & 2           \\\\\n",
       "\\end{tabular}\n"
      ],
      "text/plain": [
       "  GAME_ID      AWAY_TEAM_ID INN_CT BAT_HOME_ID OUTS_CT BALLS_CT STRIKES_CT\n",
       "1 ANA199804010 NYA          1      0           1       0        0         \n",
       "  PITCH_SEQ_TX AWAY_SCORE_CT HOME_SCORE_CT ... REMOVED_FOR_PH_BAT_FLD_CD\n",
       "1              0             0             ... 0                        \n",
       "  PO1_FLD_CD PO2_FLD_CD PO3_FLD_CD ASS1_FLD_CD ASS2_FLD_CD ASS3_FLD_CD\n",
       "1 2          0          0          0           0           0          \n",
       "  ASS4_FLD_CD ASS5_FLD_CD EVENT_ID\n",
       "1 0           0           2       "
      ]
     },
     "metadata": {},
     "output_type": "display_data"
    }
   ],
   "source": [
    "# The all1998.csv file does NOT have headers in the file.\n",
    "#  Add the Header values to data98 using the names() function\n",
    "head(data98, n=1)  # Before adding the headers.\n",
    "names(data98) <- fields[, \"Header\"]\n",
    "head(data98, n=1)  # After adding the headers.\n"
   ]
  },
  {
   "cell_type": "code",
   "execution_count": 27,
   "metadata": {},
   "outputs": [],
   "source": [
    "# Get the Player IDs from the Retrosheet data\n",
    "sosa.id <- as.character(subset(retro.ids, FIRST==\"Sammy\" & LAST==\"Sosa\")$ID)\n",
    "mac.id <- as.character(subset(retro.ids, FIRST==\"Mark\" & LAST==\"McGwire\")$ID)\n",
    "\n",
    "# Get the Player Data now that we have the ID\n",
    "sosa.data <- subset(data98, BAT_ID==sosa.id)\n",
    "mac.data <- subset(data98, BAT_ID==mac.id)\n"
   ]
  },
  {
   "cell_type": "code",
   "execution_count": 33,
   "metadata": {
    "collapsed": true
   },
   "outputs": [],
   "source": [
    "# Create a function to summarize the HR data.\n",
    "\n",
    "createData <- function(d){\n",
    "    # Extract the date.\n",
    "    d$Date <- as.Date(substr(d$GAME_ID, 4, 11), format=\"%Y%m%d\")\n",
    "    # Order by date.\n",
    "    d <- d[order(d$Date),]\n",
    "    # Track the home runs.\n",
    "    d$HR <- ifelse(d$EVENT_CD == 23, 1, 0)\n",
    "    # SUM the HR's so far\n",
    "    d$cumHR <- cumsum(d$HR)\n",
    "    # Return just the Date and Cumulative HR features.  \n",
    "    d[, c(\"Date\", \"cumHR\")]\n",
    "}\n",
    "\n"
   ]
  },
  {
   "cell_type": "code",
   "execution_count": 44,
   "metadata": {},
   "outputs": [],
   "source": [
    "# Call our CreateData function, passing in the raw data for the player.\n",
    "mac.hr <- createData(mac.data)\n",
    "sosa.hr <- createData(sosa.data)\n"
   ]
  },
  {
   "cell_type": "code",
   "execution_count": 42,
   "metadata": {},
   "outputs": [
    {
     "data": {
      "image/png": "[encoded data removed]",
      "text/plain": [
       "plot without title"
      ]
     },
     "metadata": {},
     "output_type": "display_data"
    }
   ],
   "source": [
    "# Create the graph\n",
    "plot(mac.hr, type=\"l\", lwd=2, ylab=\"Home Runs in a Season\")\n",
    "\n",
    "# Add Sosa\n",
    "lines(sosa.hr, lwd=2, col=\"grey\")\n",
    "\n",
    "# Add the HR record target\n",
    "abline(h=62, lty=3)\n",
    "\n",
    "# Add a label for the HR Record target.\n",
    "text(10440, 65, \"62\")\n",
    "\n",
    "# Add legends so we know which line is which\n",
    "legend(10440, 20, legend=c(\"McGwire (70)\", \"Sosa (66)\"), lwd=2, col=c(\"black\", \"grey\"))\n"
   ]
  },
  {
   "cell_type": "markdown",
   "metadata": {},
   "source": [
    "Challenge:  Re-Write this using a loop."
   ]
  }
 ],
 "metadata": {
  "kernelspec": {
   "display_name": "R",
   "language": "R",
   "name": "ir"
  },
  "language_info": {
   "codemirror_mode": "r",
   "file_extension": ".r",
   "mimetype": "text/x-r-source",
   "name": "R",
   "pygments_lexer": "r",
   "version": "3.3.2"
  }
 },
 "nbformat": 4,
 "nbformat_minor": 2
}
